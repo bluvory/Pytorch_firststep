{
 "cells": [
  {
   "cell_type": "code",
   "execution_count": 20,
   "metadata": {},
   "outputs": [
    {
     "name": "stdout",
     "output_type": "stream",
     "text": [
      "tensor([ 8., 12.]) None None\n"
     ]
    }
   ],
   "source": [
    "import torch\n",
    "\n",
    "x = torch.Tensor(2, 3)\n",
    "x = torch.tensor([[1,2,3], [4,5,6]])\n",
    "x = torch.tensor(data = [2.0, 3.0], requires_grad = True)\n",
    "# required_grad : 이 텐서에 대한 기울기를 저장할지 여부 지정, 기본값은 False\n",
    "\n",
    "y = x**2\n",
    "z = 2*y + 3\n",
    "\n",
    "target = torch.tensor([3.0, 4.0])\n",
    "loss = torch.sum(torch.abs(z-target))\n",
    "loss.backward()\n",
    "# 연산 그래프를 따라가며 잎 노드 x에 대한 기울기 계산\n",
    "\n",
    "print(x.grad, y.grad, z.grad)"
   ]
  },
  {
   "cell_type": "code",
   "execution_count": 22,
   "metadata": {},
   "outputs": [],
   "source": [
    "import torch\n",
    "import torch.nn as nn   # 신경망 모델 중 linear 함수 사용\n",
    "import torch.optim as optim   # 경사하강법 알고리즘\n",
    "import torch.nn.init as init    # 텐서에 초깃값을 주기 위해 필요한 함수\n",
    "\n",
    "num_data = 1000   # 사용할 데이터 수\n",
    "num_epoch = 500   # 경사하강법 반복 수\n",
    "\n",
    "x = init.uniform_(torch.Tensor(num_data, 1), -10, 10)\n",
    "# init.uniform_() : 텐서값들을 -10부터 10까지 균등하게 초기화 (즉 x에 -10부터 10까지 무작위로 들어감)\n",
    "noise = init.normal_(torch.FloatTensor(num_data, 1), std = 1)\n",
    "# 현실성을 반영하기 위해 노이즈 추가(표준정규분포 - 가우시안 노이즈)\n",
    "\n",
    "y = 2*x + 3   # y는 x에 대한 종속변수 (-17에서 23사이 분포)\n",
    "y_noise = 2*(x + noise) + 3\n"
   ]
  },
  {
   "cell_type": "code",
   "execution_count": 23,
   "metadata": {},
   "outputs": [],
   "source": [
    "model = nn.Linear(1, 1)   # 선형 회귀 모델을 구현하는 함수\n",
    "loss_func = nn.L1Loss()   #L1손실(차이의 절댓값의 평균) , 결과와 y_noise 차이\n",
    "\n",
    "optimizer = optim.SGD(model.parameters(), lr=0.01)\n",
    "# 경사하강법을 적용하여 오차를 줄이고 최적의 가중치와 편차를 근사할 수 있게 함\n",
    "# model.parameters : 선형회귀모델의 변수 w, b 전달 , lr : 학습률\n"
   ]
  },
  {
   "cell_type": "code",
   "execution_count": 25,
   "metadata": {},
   "outputs": [
    {
     "name": "stdout",
     "output_type": "stream",
     "text": [
      "tensor(6.7428)\n",
      "tensor(4.7892)\n",
      "tensor(3.3886)\n",
      "tensor(2.8310)\n",
      "tensor(2.6235)\n",
      "tensor(2.5282)\n",
      "tensor(2.4647)\n",
      "tensor(2.4143)\n",
      "tensor(2.3679)\n",
      "tensor(2.3231)\n",
      "tensor(2.2798)\n",
      "tensor(2.2398)\n",
      "tensor(2.2018)\n",
      "tensor(2.1654)\n",
      "tensor(2.1297)\n",
      "tensor(2.0950)\n",
      "tensor(2.0625)\n",
      "tensor(2.0314)\n",
      "tensor(2.0020)\n",
      "tensor(1.9745)\n",
      "tensor(1.9490)\n",
      "tensor(1.9250)\n",
      "tensor(1.9026)\n",
      "tensor(1.8814)\n",
      "tensor(1.8607)\n",
      "tensor(1.8412)\n",
      "tensor(1.8235)\n",
      "tensor(1.8066)\n",
      "tensor(1.7905)\n",
      "tensor(1.7758)\n",
      "tensor(1.7620)\n",
      "tensor(1.7489)\n",
      "tensor(1.7365)\n",
      "tensor(1.7251)\n",
      "tensor(1.7141)\n",
      "tensor(1.7035)\n",
      "tensor(1.6936)\n",
      "tensor(1.6847)\n",
      "tensor(1.6763)\n",
      "tensor(1.6685)\n",
      "tensor(1.6612)\n",
      "tensor(1.6545)\n",
      "tensor(1.6484)\n",
      "tensor(1.6423)\n",
      "tensor(1.6367)\n",
      "tensor(1.6315)\n",
      "tensor(1.6268)\n",
      "tensor(1.6224)\n",
      "tensor(1.6182)\n",
      "tensor(1.6144)\n",
      "Parameter containing:\n",
      "tensor([[2.0158]], requires_grad=True) 2.686297655105591\n"
     ]
    }
   ],
   "source": [
    "label = y_noise\n",
    "for i in range(num_epoch):\n",
    "    optimizer.zero_grad()   # 각 반복 시 지난번 계산했던 기울기를 0으로 초기화\n",
    "    output = model(x)\n",
    "    \n",
    "    loss = loss_func(output, label)   # output과 y_noise의 차이를 loss에 저장\n",
    "    loss.backward()   # 함수 호출하면 w, b 에 대한 기울기가 계산됨\n",
    "    optimizer.step()\n",
    "    \n",
    "    if i%10 == 0:\n",
    "        print(loss.data)\n",
    "        \n",
    "param_list = list(model.parameters())\n",
    "print(param_list[0], param_list[1].item())"
   ]
  },
  {
   "cell_type": "code",
   "execution_count": null,
   "metadata": {},
   "outputs": [],
   "source": []
  }
 ],
 "metadata": {
  "kernelspec": {
   "display_name": "Python 3",
   "language": "python",
   "name": "python3"
  },
  "language_info": {
   "codemirror_mode": {
    "name": "ipython",
    "version": 3
   },
   "file_extension": ".py",
   "mimetype": "text/x-python",
   "name": "python",
   "nbconvert_exporter": "python",
   "pygments_lexer": "ipython3",
   "version": "3.7.7"
  }
 },
 "nbformat": 4,
 "nbformat_minor": 4
}
